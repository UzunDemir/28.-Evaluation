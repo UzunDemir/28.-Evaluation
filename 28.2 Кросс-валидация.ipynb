{
 "cells": [
  {
   "cell_type": "code",
   "execution_count": 1,
   "id": "771eeda7",
   "metadata": {
    "id": "771eeda7"
   },
   "outputs": [],
   "source": [
    "import pandas as pd\n",
    "\n",
    "from sklearn.ensemble import RandomForestClassifier\n",
    "from sklearn.linear_model import LogisticRegression\n",
    "from sklearn.metrics import accuracy_score, confusion_matrix\n",
    "from sklearn.model_selection import train_test_split, cross_validate, cross_val_score"
   ]
  },
  {
   "cell_type": "code",
   "execution_count": 2,
   "id": "8775cad9",
   "metadata": {
    "id": "8775cad9",
    "outputId": "5d6ca9a2-74df-4e17-f863-a1d94b540cf4"
   },
   "outputs": [
    {
     "data": {
      "text/html": [
       "<div>\n",
       "<style scoped>\n",
       "    .dataframe tbody tr th:only-of-type {\n",
       "        vertical-align: middle;\n",
       "    }\n",
       "\n",
       "    .dataframe tbody tr th {\n",
       "        vertical-align: top;\n",
       "    }\n",
       "\n",
       "    .dataframe thead th {\n",
       "        text-align: right;\n",
       "    }\n",
       "</style>\n",
       "<table border=\"1\" class=\"dataframe\">\n",
       "  <thead>\n",
       "    <tr style=\"text-align: right;\">\n",
       "      <th></th>\n",
       "      <th>gender</th>\n",
       "      <th>age</th>\n",
       "      <th>hypertension</th>\n",
       "      <th>heart_disease</th>\n",
       "      <th>ever_married</th>\n",
       "      <th>work_type</th>\n",
       "      <th>Residence_type</th>\n",
       "      <th>avg_glucose_level</th>\n",
       "      <th>bmi</th>\n",
       "      <th>smoking_status</th>\n",
       "      <th>stroke</th>\n",
       "    </tr>\n",
       "  </thead>\n",
       "  <tbody>\n",
       "    <tr>\n",
       "      <th>0</th>\n",
       "      <td>0</td>\n",
       "      <td>72.917651</td>\n",
       "      <td>0</td>\n",
       "      <td>0</td>\n",
       "      <td>1</td>\n",
       "      <td>0</td>\n",
       "      <td>1</td>\n",
       "      <td>143.509078</td>\n",
       "      <td>29.160236</td>\n",
       "      <td>0</td>\n",
       "      <td>1</td>\n",
       "    </tr>\n",
       "    <tr>\n",
       "      <th>1</th>\n",
       "      <td>1</td>\n",
       "      <td>49.000000</td>\n",
       "      <td>0</td>\n",
       "      <td>0</td>\n",
       "      <td>1</td>\n",
       "      <td>0</td>\n",
       "      <td>0</td>\n",
       "      <td>85.230000</td>\n",
       "      <td>25.400000</td>\n",
       "      <td>3</td>\n",
       "      <td>0</td>\n",
       "    </tr>\n",
       "    <tr>\n",
       "      <th>2</th>\n",
       "      <td>0</td>\n",
       "      <td>58.111818</td>\n",
       "      <td>0</td>\n",
       "      <td>0</td>\n",
       "      <td>1</td>\n",
       "      <td>0</td>\n",
       "      <td>0</td>\n",
       "      <td>197.174377</td>\n",
       "      <td>34.870606</td>\n",
       "      <td>0</td>\n",
       "      <td>1</td>\n",
       "    </tr>\n",
       "    <tr>\n",
       "      <th>3</th>\n",
       "      <td>1</td>\n",
       "      <td>69.000000</td>\n",
       "      <td>0</td>\n",
       "      <td>0</td>\n",
       "      <td>1</td>\n",
       "      <td>1</td>\n",
       "      <td>1</td>\n",
       "      <td>99.680000</td>\n",
       "      <td>17.600000</td>\n",
       "      <td>0</td>\n",
       "      <td>0</td>\n",
       "    </tr>\n",
       "    <tr>\n",
       "      <th>4</th>\n",
       "      <td>0</td>\n",
       "      <td>60.000000</td>\n",
       "      <td>0</td>\n",
       "      <td>0</td>\n",
       "      <td>1</td>\n",
       "      <td>0</td>\n",
       "      <td>0</td>\n",
       "      <td>69.200000</td>\n",
       "      <td>30.900000</td>\n",
       "      <td>1</td>\n",
       "      <td>0</td>\n",
       "    </tr>\n",
       "  </tbody>\n",
       "</table>\n",
       "</div>"
      ],
      "text/plain": [
       "   gender        age  hypertension  heart_disease  ever_married  work_type  \\\n",
       "0       0  72.917651             0              0             1          0   \n",
       "1       1  49.000000             0              0             1          0   \n",
       "2       0  58.111818             0              0             1          0   \n",
       "3       1  69.000000             0              0             1          1   \n",
       "4       0  60.000000             0              0             1          0   \n",
       "\n",
       "   Residence_type  avg_glucose_level        bmi  smoking_status  stroke  \n",
       "0               1         143.509078  29.160236               0       1  \n",
       "1               0          85.230000  25.400000               3       0  \n",
       "2               0         197.174377  34.870606               0       1  \n",
       "3               1          99.680000  17.600000               0       0  \n",
       "4               0          69.200000  30.900000               1       0  "
      ]
     },
     "execution_count": 2,
     "metadata": {},
     "output_type": "execute_result"
    }
   ],
   "source": [
    "df = pd.read_csv('28.2 stroke_data_encoded.csv')\n",
    "df.head()"
   ]
  },
  {
   "cell_type": "code",
   "execution_count": 3,
   "id": "c8803f87",
   "metadata": {
    "id": "c8803f87",
    "outputId": "c11e7981-c648-4114-f2cb-6558fdc8e883"
   },
   "outputs": [
    {
     "data": {
      "text/plain": [
       "(4000, 11)"
      ]
     },
     "execution_count": 3,
     "metadata": {},
     "output_type": "execute_result"
    }
   ],
   "source": [
    "df.shape"
   ]
  },
  {
   "cell_type": "code",
   "execution_count": 4,
   "id": "7cfb31ef",
   "metadata": {
    "id": "7cfb31ef"
   },
   "outputs": [],
   "source": [
    "x = df[['age', 'avg_glucose_level', 'bmi']]\n",
    "y = df['stroke']"
   ]
  },
  {
   "cell_type": "code",
   "execution_count": 7,
   "id": "b2499633",
   "metadata": {
    "id": "b2499633"
   },
   "outputs": [],
   "source": [
    "# инициализируем переиенную logreg для обучения модели логистической регрессии\n",
    "logreg = LogisticRegression(random_state=42)"
   ]
  },
  {
   "cell_type": "code",
   "execution_count": 9,
   "id": "d20d5d3c",
   "metadata": {
    "id": "d20d5d3c",
    "outputId": "ade08344-3780-41b2-9c57-737da17db270"
   },
   "outputs": [
    {
     "data": {
      "text/plain": [
       "{'fit_time': array([0.03989291, 0.00226831, 0.01562095, 0.01562214, 0.01562119]),\n",
       " 'score_time': array([0.0009973, 0.       , 0.       , 0.       , 0.       ]),\n",
       " 'test_score': array([0.795  , 0.7725 , 0.77375, 0.80375, 0.7625 ])}"
      ]
     },
     "execution_count": 9,
     "metadata": {},
     "output_type": "execute_result"
    }
   ],
   "source": [
    "# импортируем функцию кросс-валидации\n",
    "cross_validate(logreg, x, y, cv=5)# , scoring=)\n",
    "# fit_time - время обучения модели для каждой итерации\n",
    "# score_time - время оценки модели для каждой итерации\n",
    "# test_score - значение метрики на тестовом фолде"
   ]
  },
  {
   "cell_type": "code",
   "execution_count": 12,
   "id": "84a0c529",
   "metadata": {
    "id": "84a0c529"
   },
   "outputs": [
    {
     "data": {
      "text/plain": [
       "array([0.795  , 0.7725 , 0.77375, 0.80375, 0.7625 ])"
      ]
     },
     "execution_count": 12,
     "metadata": {},
     "output_type": "execute_result"
    }
   ],
   "source": [
    "cv_score = cross_val_score(logreg, x, y, cv=5,)\n",
    "cv_score"
   ]
  },
  {
   "cell_type": "code",
   "execution_count": 11,
   "id": "0c49fa37",
   "metadata": {
    "id": "0c49fa37",
    "outputId": "ab02dd42-d90e-49b1-ba80-2c14d13cd9ad"
   },
   "outputs": [
    {
     "data": {
      "text/plain": [
       "(0.7815, 0.015358222553407677)"
      ]
     },
     "execution_count": 11,
     "metadata": {},
     "output_type": "execute_result"
    }
   ],
   "source": [
    "cv_score.mean(), cv_score.std()"
   ]
  },
  {
   "cell_type": "code",
   "execution_count": null,
   "id": "c176bb8a",
   "metadata": {
    "id": "c176bb8a"
   },
   "outputs": [],
   "source": []
  }
 ],
 "metadata": {
  "colab": {
   "name": "Кросс-валидация.ipynb",
   "provenance": []
  },
  "kernelspec": {
   "display_name": "Python 3 (ipykernel)",
   "language": "python",
   "name": "python3"
  },
  "language_info": {
   "codemirror_mode": {
    "name": "ipython",
    "version": 3
   },
   "file_extension": ".py",
   "mimetype": "text/x-python",
   "name": "python",
   "nbconvert_exporter": "python",
   "pygments_lexer": "ipython3",
   "version": "3.9.7"
  }
 },
 "nbformat": 4,
 "nbformat_minor": 5
}
