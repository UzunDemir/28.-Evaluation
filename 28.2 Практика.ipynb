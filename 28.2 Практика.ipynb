{
 "cells": [
  {
   "cell_type": "markdown",
   "metadata": {
    "id": "zAj94GkgnJ5x"
   },
   "source": [
    "## Оценка результатов моделирования"
   ]
  },
  {
   "cell_type": "markdown",
   "metadata": {
    "id": "1vpjvgvOnQu0"
   },
   "source": [
    "В этом практическом задании три обязательных и две дополнительные задачи. \n",
    "<br>\n",
    "*Обязательные задачи* помогут проверить, что вы действительно усвоили материал. Если у вас всё получилось, можете переходить к следующей теме.\n",
    "<br>\n",
    "*Дополнительные задачи* для тех, кто хочет потренироваться в улучшении модели при обнаружении переобучения и в применении кросс-валидации. \n",
    "<br>\n",
    "Удачи!"
   ]
  },
  {
   "cell_type": "markdown",
   "metadata": {
    "id": "cgv0l5eVnSuK"
   },
   "source": [
    "Цели практического задания: \n",
    "\n",
    "1.   Потренироваться в проверке качества на отложенной выборке (выборка test по методике train_validation_test split).\n",
    "2.   Потренироваться в расчёте метрик с помощью кросс-валидации.\n",
    "3.   Научиться определять переобучение модели.\n",
    "\n",
    "\n"
   ]
  },
  {
   "cell_type": "markdown",
   "metadata": {
    "id": "6d3qSRtgxWEv"
   },
   "source": [
    "В этой практической работе будем использовать датасет Тайваньского центра по переливанию крови. В нём находится следующая информация по донорам:\n",
    "\n",
    "*   Recency (rec) — количество месяцев, прошедшее с момента последнего донорства;\n",
    "*   Frequency (freq) — общее количество донорств по донору;\n",
    "*   Monetary (mon) — количество сданной крови в кубических сантиметрах;\n",
    "*   Time (time) — количество месяцев, прошедшее с первого донорства;\n",
    "*   Target (target) — сдал ли донор кровь в марте.\n",
    "\n",
    "Задача в следующем: предсказать, сдаст ли донор кровь в марте, исходя из его входных параметров."
   ]
  },
  {
   "cell_type": "markdown",
   "metadata": {
    "id": "SVdWBi8PnixE"
   },
   "source": [
    "## Обязательные задачи"
   ]
  },
  {
   "cell_type": "code",
   "execution_count": 11,
   "metadata": {
    "id": "KALtt5wonOEf"
   },
   "outputs": [],
   "source": [
    "import pandas as pd\n",
    "\n",
    "from sklearn.metrics import accuracy_score\n",
    "from sklearn.model_selection import train_test_split, cross_validate, cross_val_score\n",
    "from sklearn.tree import DecisionTreeClassifier\n",
    "from sklearn.ensemble import RandomForestClassifier\n",
    "from sklearn.linear_model import LogisticRegression\n",
    "from sklearn.metrics import accuracy_score, confusion_matrix\n",
    "from sklearn.model_selection import train_test_split, cross_validate, cross_val_score"
   ]
  },
  {
   "cell_type": "code",
   "execution_count": 2,
   "metadata": {
    "colab": {
     "base_uri": "https://localhost:8080/",
     "height": 224
    },
    "id": "f6SYnXpVhdv5",
    "outputId": "e2df161b-7a30-462c-82a2-64f96f7c4157"
   },
   "outputs": [
    {
     "name": "stdout",
     "output_type": "stream",
     "text": [
      "(648, 5)\n"
     ]
    },
    {
     "data": {
      "text/html": [
       "<div>\n",
       "<style scoped>\n",
       "    .dataframe tbody tr th:only-of-type {\n",
       "        vertical-align: middle;\n",
       "    }\n",
       "\n",
       "    .dataframe tbody tr th {\n",
       "        vertical-align: top;\n",
       "    }\n",
       "\n",
       "    .dataframe thead th {\n",
       "        text-align: right;\n",
       "    }\n",
       "</style>\n",
       "<table border=\"1\" class=\"dataframe\">\n",
       "  <thead>\n",
       "    <tr style=\"text-align: right;\">\n",
       "      <th></th>\n",
       "      <th>rec</th>\n",
       "      <th>freq</th>\n",
       "      <th>mon</th>\n",
       "      <th>time</th>\n",
       "      <th>target</th>\n",
       "    </tr>\n",
       "  </thead>\n",
       "  <tbody>\n",
       "    <tr>\n",
       "      <th>0</th>\n",
       "      <td>2</td>\n",
       "      <td>50</td>\n",
       "      <td>12500</td>\n",
       "      <td>98</td>\n",
       "      <td>1</td>\n",
       "    </tr>\n",
       "    <tr>\n",
       "      <th>1</th>\n",
       "      <td>0</td>\n",
       "      <td>13</td>\n",
       "      <td>3250</td>\n",
       "      <td>28</td>\n",
       "      <td>1</td>\n",
       "    </tr>\n",
       "    <tr>\n",
       "      <th>2</th>\n",
       "      <td>1</td>\n",
       "      <td>16</td>\n",
       "      <td>4000</td>\n",
       "      <td>35</td>\n",
       "      <td>1</td>\n",
       "    </tr>\n",
       "    <tr>\n",
       "      <th>3</th>\n",
       "      <td>2</td>\n",
       "      <td>20</td>\n",
       "      <td>5000</td>\n",
       "      <td>45</td>\n",
       "      <td>1</td>\n",
       "    </tr>\n",
       "    <tr>\n",
       "      <th>4</th>\n",
       "      <td>1</td>\n",
       "      <td>24</td>\n",
       "      <td>6000</td>\n",
       "      <td>77</td>\n",
       "      <td>0</td>\n",
       "    </tr>\n",
       "  </tbody>\n",
       "</table>\n",
       "</div>"
      ],
      "text/plain": [
       "   rec  freq    mon  time  target\n",
       "0    2    50  12500    98       1\n",
       "1    0    13   3250    28       1\n",
       "2    1    16   4000    35       1\n",
       "3    2    20   5000    45       1\n",
       "4    1    24   6000    77       0"
      ]
     },
     "execution_count": 2,
     "metadata": {},
     "output_type": "execute_result"
    }
   ],
   "source": [
    "df = pd.read_csv('28.2 transfusion_main.csv')\n",
    "print(df.shape)\n",
    "df.head()"
   ]
  },
  {
   "cell_type": "markdown",
   "metadata": {
    "id": "n37_TI2K9wyX"
   },
   "source": [
    "**Задача 0. Модель решающего дерева**\n",
    "\n",
    "1. Изучите предоставленные данные из файла transfusion_main.csv. \n",
    "2. Поделите данные на треин/тест. \n",
    "3. Обучите модель решающего дерева с random_state=42 на тренировочной выборке. \n",
    "4. Сделайте предикт на тестовой выборке. \n",
    "5. Посчитайте метрики качества на тренировочной и тестовой выборках. \n",
    "\n",
    "Сделайте предположение, переобучена ваша модель или нет. Аргументируйте свой ответ."
   ]
  },
  {
   "cell_type": "code",
   "execution_count": 3,
   "metadata": {
    "id": "HsadyRXNDHIs"
   },
   "outputs": [
    {
     "data": {
      "text/plain": [
       "rec       int64\n",
       "freq      int64\n",
       "mon       int64\n",
       "time      int64\n",
       "target    int64\n",
       "dtype: object"
      ]
     },
     "execution_count": 3,
     "metadata": {},
     "output_type": "execute_result"
    }
   ],
   "source": [
    "# Ваш код здесь\n",
    "df.dtypes"
   ]
  },
  {
   "cell_type": "code",
   "execution_count": 5,
   "metadata": {},
   "outputs": [
    {
     "data": {
      "text/plain": [
       "rec       0\n",
       "freq      0\n",
       "mon       0\n",
       "time      0\n",
       "target    0\n",
       "dtype: int64"
      ]
     },
     "execution_count": 5,
     "metadata": {},
     "output_type": "execute_result"
    }
   ],
   "source": [
    "# посчитаем и выведем количество пропущенных значений в каждом столбце\n",
    "pd.isnull(df).sum()"
   ]
  },
  {
   "cell_type": "code",
   "execution_count": 6,
   "metadata": {},
   "outputs": [],
   "source": [
    "x = df.drop(columns = ['target'], axis = 1) \n",
    "y = df.target"
   ]
  },
  {
   "cell_type": "code",
   "execution_count": 9,
   "metadata": {},
   "outputs": [
    {
     "data": {
      "text/plain": [
       "0      1\n",
       "1      1\n",
       "2      1\n",
       "3      1\n",
       "4      0\n",
       "      ..\n",
       "643    0\n",
       "644    0\n",
       "645    0\n",
       "646    0\n",
       "647    0\n",
       "Name: target, Length: 648, dtype: int64"
      ]
     },
     "execution_count": 9,
     "metadata": {},
     "output_type": "execute_result"
    }
   ],
   "source": [
    "y"
   ]
  },
  {
   "cell_type": "code",
   "execution_count": 12,
   "metadata": {},
   "outputs": [],
   "source": [
    "# инициализируем переиенную logreg для обучения модели логистической регрессии\n",
    "logreg = LogisticRegression(random_state=42)"
   ]
  },
  {
   "cell_type": "code",
   "execution_count": 13,
   "metadata": {},
   "outputs": [
    {
     "data": {
      "text/plain": [
       "{'fit_time': array([0.01899815, 0.01396251, 0.01296544, 0.01396251, 0.00997424]),\n",
       " 'score_time': array([0.0009973 , 0.00099754, 0.0009973 , 0.00099683, 0.00099635]),\n",
       " 'test_score': array([0.81538462, 0.76153846, 0.76923077, 0.80620155, 0.76744186])}"
      ]
     },
     "execution_count": 13,
     "metadata": {},
     "output_type": "execute_result"
    }
   ],
   "source": [
    "# импортируем функцию кросс-валидации\n",
    "cross_validate(logreg, x, y, cv=5)# , scoring=)\n",
    "# fit_time - время обучения модели для каждой итерации\n",
    "# score_time - время оценки модели для каждой итерации\n",
    "# test_score - значение метрики на тестовом фолде"
   ]
  },
  {
   "cell_type": "code",
   "execution_count": 14,
   "metadata": {},
   "outputs": [
    {
     "data": {
      "text/plain": [
       "DecisionTreeClassifier(random_state=42)"
      ]
     },
     "execution_count": 14,
     "metadata": {},
     "output_type": "execute_result"
    }
   ],
   "source": [
    "tree = DecisionTreeClassifier(random_state=42)\n",
    "\n",
    "x_train, x_test, y_train, y_test = train_test_split(x, y, test_size=0.3, random_state=42)\n",
    "tree.fit(x_train, y_train)"
   ]
  },
  {
   "cell_type": "code",
   "execution_count": 15,
   "metadata": {},
   "outputs": [
    {
     "name": "stdout",
     "output_type": "stream",
     "text": [
      "качество на треине: 0.9426048565121413\n",
      "качество на тесте: 0.7384615384615385\n"
     ]
    }
   ],
   "source": [
    "print(f'качество на треине: {accuracy_score(tree.predict(x_train), y_train)}')\n",
    "print(f'качество на тесте: {accuracy_score(tree.predict(x_test), y_test)}')\n",
    "\n",
    "# модель хорошо обучилась на тренировочной выборке, но на тестовой качество просело на две десятых. \n",
    "# в целом результат метрики остаётся хорошим, и модель сохраняет свою предиктивную способность. \n",
    "# склонность к переобучению у модели есть, но однозначно сказать, что она сильно переобучилась и не может предсказывать новые данные, — нельзя."
   ]
  },
  {
   "cell_type": "code",
   "execution_count": null,
   "metadata": {},
   "outputs": [],
   "source": []
  },
  {
   "cell_type": "markdown",
   "metadata": {
    "id": "GoIrqhEzEbsu"
   },
   "source": [
    "**Задача 1. Проверка качества с помощью кросс-валидации**\n",
    "\n",
    "Проверьте предсказательную способность модели дерева решений с помощью кросс-валидации. Исходя из метрик качества, полученных на кросс-валидации, сделайте вывод о предсказательной способности данной модели."
   ]
  },
  {
   "cell_type": "code",
   "execution_count": 16,
   "metadata": {
    "id": "zz5QVoOGEa_a"
   },
   "outputs": [
    {
     "data": {
      "text/plain": [
       "array([0.50769231, 0.66153846, 0.73846154, 0.72868217, 0.68992248])"
      ]
     },
     "execution_count": 16,
     "metadata": {},
     "output_type": "execute_result"
    }
   ],
   "source": [
    "# Решение Задача 1\n",
    "cross_val_score(tree, x, y, cv=5)\n",
    "# как мы видим, метрики качества скачут от итерации к итерации кросс-валидации. \n",
    "# модель не показывает стабильных результатов на тестовых фолдах, и поэтому её не рекомендуется использовать в промышленном решении.\n",
    "# модель с высокой долей вероятности склонна к переобучению. На 1 фолде она показывает очень маленькое значение метрик, что, скорее всего, сигнализирует о переобучении модели."
   ]
  },
  {
   "cell_type": "markdown",
   "metadata": {
    "id": "DzwZ9hP0FHVG"
   },
   "source": [
    "**Задача 2. Проверка качества на отложенной выборке**\n",
    "\n",
    "В результате работы над задачей предсказания сдачи крови вы решили предложить модель дерева решений для использования в промышленном решении. Заказчик хочет проверить качество решения офлайн-тестированием. Для этого он выдал вам выборку данных, которую вы раньше не видели. Вам нужно замерить качество модели на выборке заказчика.\n",
    "\n",
    "1. Обучите модель деревья решения на всем датасете `df`. \n",
    "2. Загрузите отложенную выборку из файла `tranfusioin_oot.csv`. \n",
    "3. Проверьте качество модели на этой выборке и на выборке для обучения. \n",
    "\n",
    "Сделайте вывод, переобучена ли данная модель."
   ]
  },
  {
   "cell_type": "code",
   "execution_count": 18,
   "metadata": {
    "id": "BGVIJYefHQFF"
   },
   "outputs": [
    {
     "data": {
      "text/html": [
       "<div>\n",
       "<style scoped>\n",
       "    .dataframe tbody tr th:only-of-type {\n",
       "        vertical-align: middle;\n",
       "    }\n",
       "\n",
       "    .dataframe tbody tr th {\n",
       "        vertical-align: top;\n",
       "    }\n",
       "\n",
       "    .dataframe thead th {\n",
       "        text-align: right;\n",
       "    }\n",
       "</style>\n",
       "<table border=\"1\" class=\"dataframe\">\n",
       "  <thead>\n",
       "    <tr style=\"text-align: right;\">\n",
       "      <th></th>\n",
       "      <th>rec</th>\n",
       "      <th>freq</th>\n",
       "      <th>mon</th>\n",
       "      <th>time</th>\n",
       "      <th>target</th>\n",
       "    </tr>\n",
       "  </thead>\n",
       "  <tbody>\n",
       "    <tr>\n",
       "      <th>0</th>\n",
       "      <td>14</td>\n",
       "      <td>1</td>\n",
       "      <td>250</td>\n",
       "      <td>14</td>\n",
       "      <td>0</td>\n",
       "    </tr>\n",
       "    <tr>\n",
       "      <th>1</th>\n",
       "      <td>9</td>\n",
       "      <td>9</td>\n",
       "      <td>2250</td>\n",
       "      <td>16</td>\n",
       "      <td>0</td>\n",
       "    </tr>\n",
       "    <tr>\n",
       "      <th>2</th>\n",
       "      <td>11</td>\n",
       "      <td>3</td>\n",
       "      <td>750</td>\n",
       "      <td>16</td>\n",
       "      <td>1</td>\n",
       "    </tr>\n",
       "    <tr>\n",
       "      <th>3</th>\n",
       "      <td>12</td>\n",
       "      <td>11</td>\n",
       "      <td>2750</td>\n",
       "      <td>23</td>\n",
       "      <td>0</td>\n",
       "    </tr>\n",
       "    <tr>\n",
       "      <th>4</th>\n",
       "      <td>2</td>\n",
       "      <td>1</td>\n",
       "      <td>250</td>\n",
       "      <td>2</td>\n",
       "      <td>0</td>\n",
       "    </tr>\n",
       "  </tbody>\n",
       "</table>\n",
       "</div>"
      ],
      "text/plain": [
       "   rec  freq   mon  time  target\n",
       "0   14     1   250    14       0\n",
       "1    9     9  2250    16       0\n",
       "2   11     3   750    16       1\n",
       "3   12    11  2750    23       0\n",
       "4    2     1   250     2       0"
      ]
     },
     "execution_count": 18,
     "metadata": {},
     "output_type": "execute_result"
    }
   ],
   "source": [
    "# Решение Задача 2\n",
    "oot = pd.read_csv('28.2 transfusion_oot.csv')\n",
    "oot.head()"
   ]
  },
  {
   "cell_type": "code",
   "execution_count": 19,
   "metadata": {},
   "outputs": [
    {
     "name": "stdout",
     "output_type": "stream",
     "text": [
      "качество на df: 0.941358024691358\n",
      "качество на oot: 0.54\n"
     ]
    }
   ],
   "source": [
    "tree.fit(x, y)\n",
    "\n",
    "df_acc = accuracy_score(tree.predict(x), y)\n",
    "print(f'качество на df: {df_acc}')\n",
    "oot_acc = accuracy_score(tree.predict(oot.drop(['target'], axis=1)), oot['target'])\n",
    "print(f'качество на oot: {oot_acc}')\n",
    "\n",
    "# модель явно переобучена, потеря в качестве в два раза."
   ]
  },
  {
   "cell_type": "code",
   "execution_count": 22,
   "metadata": {
    "scrolled": true
   },
   "outputs": [
    {
     "name": "stdout",
     "output_type": "stream",
     "text": [
      "rec 1.0\n",
      "freq 0.0\n",
      "mon 0.0\n",
      "time 0.0\n"
     ]
    }
   ],
   "source": [
    "# дерево строится по одной фиче: rec\n",
    "for name, imp in zip(x.columns, tree.feature_importances_):\n",
    "  print(name, imp)"
   ]
  },
  {
   "cell_type": "code",
   "execution_count": 23,
   "metadata": {},
   "outputs": [
    {
     "data": {
      "text/plain": [
       "dict_keys(['explained_variance', 'r2', 'max_error', 'neg_median_absolute_error', 'neg_mean_absolute_error', 'neg_mean_absolute_percentage_error', 'neg_mean_squared_error', 'neg_mean_squared_log_error', 'neg_root_mean_squared_error', 'neg_mean_poisson_deviance', 'neg_mean_gamma_deviance', 'accuracy', 'top_k_accuracy', 'roc_auc', 'roc_auc_ovr', 'roc_auc_ovo', 'roc_auc_ovr_weighted', 'roc_auc_ovo_weighted', 'balanced_accuracy', 'average_precision', 'neg_log_loss', 'neg_brier_score', 'adjusted_rand_score', 'rand_score', 'homogeneity_score', 'completeness_score', 'v_measure_score', 'mutual_info_score', 'adjusted_mutual_info_score', 'normalized_mutual_info_score', 'fowlkes_mallows_score', 'precision', 'precision_macro', 'precision_micro', 'precision_samples', 'precision_weighted', 'recall', 'recall_macro', 'recall_micro', 'recall_samples', 'recall_weighted', 'f1', 'f1_macro', 'f1_micro', 'f1_samples', 'f1_weighted', 'jaccard', 'jaccard_macro', 'jaccard_micro', 'jaccard_samples', 'jaccard_weighted'])"
      ]
     },
     "execution_count": 23,
     "metadata": {},
     "output_type": "execute_result"
    }
   ],
   "source": [
    "from sklearn.metrics import SCORERS\n",
    "SCORERS.keys()"
   ]
  },
  {
   "cell_type": "code",
   "execution_count": 24,
   "metadata": {},
   "outputs": [
    {
     "data": {
      "text/plain": [
       "array([0.76153846, 0.76923077, 0.76923077, 0.76744186, 0.76744186])"
      ]
     },
     "execution_count": 24,
     "metadata": {},
     "output_type": "execute_result"
    }
   ],
   "source": [
    "cross_val_score(tree, x, y, cv=5, scoring='f1_micro')"
   ]
  },
  {
   "cell_type": "code",
   "execution_count": 25,
   "metadata": {},
   "outputs": [
    {
     "data": {
      "text/plain": [
       "array([0.6584481 , 0.66889632, 0.66889632, 0.66646267, 0.66646267])"
      ]
     },
     "execution_count": 25,
     "metadata": {},
     "output_type": "execute_result"
    }
   ],
   "source": [
    "cross_val_score(tree, x, y, cv=5, scoring='f1_weighted')"
   ]
  },
  {
   "cell_type": "markdown",
   "metadata": {
    "id": "JBBaSS7gJ6B7"
   },
   "source": [
    "## Дополнительные задачи"
   ]
  },
  {
   "cell_type": "markdown",
   "metadata": {
    "id": "Ql_8ejCfKIUE"
   },
   "source": [
    "1. Попробуйте изменить параметры дерева решений таким образом, чтобы модель показывала более стабильные значения метрик на кросс валидации на `df`.\n",
    "\n",
    "2. Затем проверьте, улучшилась ли предсказательная способности модели на отложенной выборке из датасета `transfusion_oot.csv`.\n",
    "\n",
    "3. Выведите значимости для каждой фичи из обученного дерева.\n",
    "\n",
    "**Подсказка:** модель дерева решений склонна к переобучению, так как она стремится строить дерево максимальной глубины. То есть максимально заточить свои ответы под данные, которые она видит в тренировочной выборке. Уменьшить переобучение такой модели можно, настроив параметры, которые отвечают за глубину дерева. Уменьшая глубину обучаемого дерева, вы предотвращаете переобучение. Явление, когда мы искусственно уменьшаем дерево, называется pruning (стрижка дерева).\n",
    "\n",
    "В случае, если в датасете слишком много фичей, указав слишком маленькую глубину дерева, вы рискуете недообучить модель. "
   ]
  },
  {
   "cell_type": "code",
   "execution_count": 20,
   "metadata": {
    "id": "lc_elZC7LPEJ"
   },
   "outputs": [
    {
     "data": {
      "text/plain": [
       "array([0.76153846, 0.76923077, 0.76923077, 0.76744186, 0.76744186])"
      ]
     },
     "execution_count": 20,
     "metadata": {},
     "output_type": "execute_result"
    }
   ],
   "source": [
    "# Решение Дополнительной задачи\n",
    "# Мы можем использовать глубину 1, так как у нас всего 4 входные фичи.\n",
    "tree = DecisionTreeClassifier(random_state=42, max_depth=1)\n",
    "cross_val_score(tree, x, y, cv=5)"
   ]
  },
  {
   "cell_type": "code",
   "execution_count": 21,
   "metadata": {
    "id": "HfBmsUKNl-wM"
   },
   "outputs": [
    {
     "name": "stdout",
     "output_type": "stream",
     "text": [
      "качество на df: 0.7669753086419753\n",
      "качество на oot: 0.73\n"
     ]
    }
   ],
   "source": [
    "tree.fit(x, y)\n",
    "\n",
    "df_acc = accuracy_score(tree.predict(x), y)\n",
    "print(f'качество на df: {df_acc}')\n",
    "oot_acc = accuracy_score(tree.predict(oot.drop(['target'], axis=1)), oot['target'])\n",
    "print(f'качество на oot: {oot_acc}')\n",
    "\n",
    "# Качество модели на df и отложенной выборке не сильно отличается, модель не переобучилась."
   ]
  },
  {
   "cell_type": "code",
   "execution_count": null,
   "metadata": {
    "id": "n_4Ilg_DeBx3"
   },
   "outputs": [],
   "source": []
  },
  {
   "cell_type": "code",
   "execution_count": null,
   "metadata": {
    "id": "Nyz-XhyBeB7x"
   },
   "outputs": [],
   "source": []
  },
  {
   "cell_type": "code",
   "execution_count": null,
   "metadata": {
    "id": "wTB3VrVSeCDF"
   },
   "outputs": [],
   "source": []
  },
  {
   "cell_type": "code",
   "execution_count": null,
   "metadata": {
    "id": "YtpyUuWteCKs"
   },
   "outputs": [],
   "source": []
  },
  {
   "cell_type": "code",
   "execution_count": null,
   "metadata": {
    "id": "HBrN7IIj3ba7"
   },
   "outputs": [],
   "source": [
    "# Решение Задача 0\n",
    "x = df.drop(['target'], axis=1)\n",
    "y = df.target"
   ]
  },
  {
   "cell_type": "code",
   "execution_count": null,
   "metadata": {
    "colab": {
     "base_uri": "https://localhost:8080/"
    },
    "id": "9usZRove9pP-",
    "outputId": "e68d7695-5f5f-4735-b119-bea453b2d37f"
   },
   "outputs": [
    {
     "data": {
      "text/plain": [
       "DecisionTreeClassifier(random_state=42)"
      ]
     },
     "execution_count": 4,
     "metadata": {},
     "output_type": "execute_result"
    }
   ],
   "source": [
    "tree = DecisionTreeClassifier(random_state=42)\n",
    "\n",
    "x_train, x_test, y_train, y_test = train_test_split(x, y, test_size=0.3, random_state=42)\n",
    "tree.fit(x_train, y_train)"
   ]
  },
  {
   "cell_type": "code",
   "execution_count": null,
   "metadata": {
    "colab": {
     "base_uri": "https://localhost:8080/"
    },
    "id": "L_j3beFJ-jQe",
    "outputId": "f148ac34-2772-4f57-aa35-d7857993f09e"
   },
   "outputs": [
    {
     "name": "stdout",
     "output_type": "stream",
     "text": [
      "качество на треине: 0.9426048565121413\n",
      "качество на тесте: 0.7384615384615385\n"
     ]
    }
   ],
   "source": [
    "print(f'качество на треине: {accuracy_score(tree.predict(x_train), y_train)}')\n",
    "print(f'качество на тесте: {accuracy_score(tree.predict(x_test), y_test)}')\n",
    "\n",
    "# модель хорошо обучилась на тренировочной выборке, но на тестовой качество просело на две десятых. \n",
    "# в целом результат метрики остаётся хорошим, и модель сохраняет свою предиктивную способность. \n",
    "# склонность к переобучению у модели есть, но однозначно сказать, что она сильно переобучилась и не может предсказывать новые данные, — нельзя."
   ]
  },
  {
   "cell_type": "code",
   "execution_count": null,
   "metadata": {
    "id": "yUmq9SIleE3o"
   },
   "outputs": [],
   "source": []
  },
  {
   "cell_type": "code",
   "execution_count": null,
   "metadata": {
    "colab": {
     "base_uri": "https://localhost:8080/"
    },
    "id": "hXPCRhQTFH-T",
    "outputId": "240fd81f-6cdc-47cf-f462-815a9f4b08c5"
   },
   "outputs": [
    {
     "data": {
      "text/plain": [
       "array([0.50769231, 0.66153846, 0.73846154, 0.72868217, 0.68992248])"
      ]
     },
     "execution_count": 6,
     "metadata": {},
     "output_type": "execute_result"
    }
   ],
   "source": [
    "# Решение Задача 1\n",
    "cross_val_score(tree, x, y, cv=5)\n",
    "# как мы видим, метрики качества скачут от итерации к итерации кросс-валидации. \n",
    "# модель не показывает стабильных результатов на тестовых фолдах, и поэтому её не рекомендуется использовать в промышленном решении.\n",
    "# модель с высокой долей вероятности склонна к переобучению. На 1 фолде она показывает очень маленькое значение метрик, что, скорее всего, сигнализирует о переобучении модели."
   ]
  },
  {
   "cell_type": "code",
   "execution_count": null,
   "metadata": {
    "id": "erIjR8NPeKZ2"
   },
   "outputs": [],
   "source": []
  },
  {
   "cell_type": "code",
   "execution_count": null,
   "metadata": {
    "colab": {
     "base_uri": "https://localhost:8080/",
     "height": 206
    },
    "id": "FM4yotlNHB0y",
    "outputId": "a67470e5-e6ae-4991-cb03-1efad4ca7269"
   },
   "outputs": [
    {
     "data": {
      "text/html": [
       "\n",
       "  <div id=\"df-9e65ad9f-534e-42cb-b749-c6e83a28638f\">\n",
       "    <div class=\"colab-df-container\">\n",
       "      <div>\n",
       "<style scoped>\n",
       "    .dataframe tbody tr th:only-of-type {\n",
       "        vertical-align: middle;\n",
       "    }\n",
       "\n",
       "    .dataframe tbody tr th {\n",
       "        vertical-align: top;\n",
       "    }\n",
       "\n",
       "    .dataframe thead th {\n",
       "        text-align: right;\n",
       "    }\n",
       "</style>\n",
       "<table border=\"1\" class=\"dataframe\">\n",
       "  <thead>\n",
       "    <tr style=\"text-align: right;\">\n",
       "      <th></th>\n",
       "      <th>rec</th>\n",
       "      <th>freq</th>\n",
       "      <th>mon</th>\n",
       "      <th>time</th>\n",
       "      <th>target</th>\n",
       "    </tr>\n",
       "  </thead>\n",
       "  <tbody>\n",
       "    <tr>\n",
       "      <th>0</th>\n",
       "      <td>14</td>\n",
       "      <td>1</td>\n",
       "      <td>250</td>\n",
       "      <td>14</td>\n",
       "      <td>0</td>\n",
       "    </tr>\n",
       "    <tr>\n",
       "      <th>1</th>\n",
       "      <td>9</td>\n",
       "      <td>9</td>\n",
       "      <td>2250</td>\n",
       "      <td>16</td>\n",
       "      <td>0</td>\n",
       "    </tr>\n",
       "    <tr>\n",
       "      <th>2</th>\n",
       "      <td>11</td>\n",
       "      <td>3</td>\n",
       "      <td>750</td>\n",
       "      <td>16</td>\n",
       "      <td>1</td>\n",
       "    </tr>\n",
       "    <tr>\n",
       "      <th>3</th>\n",
       "      <td>12</td>\n",
       "      <td>11</td>\n",
       "      <td>2750</td>\n",
       "      <td>23</td>\n",
       "      <td>0</td>\n",
       "    </tr>\n",
       "    <tr>\n",
       "      <th>4</th>\n",
       "      <td>2</td>\n",
       "      <td>1</td>\n",
       "      <td>250</td>\n",
       "      <td>2</td>\n",
       "      <td>0</td>\n",
       "    </tr>\n",
       "  </tbody>\n",
       "</table>\n",
       "</div>\n",
       "      <button class=\"colab-df-convert\" onclick=\"convertToInteractive('df-9e65ad9f-534e-42cb-b749-c6e83a28638f')\"\n",
       "              title=\"Convert this dataframe to an interactive table.\"\n",
       "              style=\"display:none;\">\n",
       "        \n",
       "  <svg xmlns=\"http://www.w3.org/2000/svg\" height=\"24px\"viewBox=\"0 0 24 24\"\n",
       "       width=\"24px\">\n",
       "    <path d=\"M0 0h24v24H0V0z\" fill=\"none\"/>\n",
       "    <path d=\"M18.56 5.44l.94 2.06.94-2.06 2.06-.94-2.06-.94-.94-2.06-.94 2.06-2.06.94zm-11 1L8.5 8.5l.94-2.06 2.06-.94-2.06-.94L8.5 2.5l-.94 2.06-2.06.94zm10 10l.94 2.06.94-2.06 2.06-.94-2.06-.94-.94-2.06-.94 2.06-2.06.94z\"/><path d=\"M17.41 7.96l-1.37-1.37c-.4-.4-.92-.59-1.43-.59-.52 0-1.04.2-1.43.59L10.3 9.45l-7.72 7.72c-.78.78-.78 2.05 0 2.83L4 21.41c.39.39.9.59 1.41.59.51 0 1.02-.2 1.41-.59l7.78-7.78 2.81-2.81c.8-.78.8-2.07 0-2.86zM5.41 20L4 18.59l7.72-7.72 1.47 1.35L5.41 20z\"/>\n",
       "  </svg>\n",
       "      </button>\n",
       "      \n",
       "  <style>\n",
       "    .colab-df-container {\n",
       "      display:flex;\n",
       "      flex-wrap:wrap;\n",
       "      gap: 12px;\n",
       "    }\n",
       "\n",
       "    .colab-df-convert {\n",
       "      background-color: #E8F0FE;\n",
       "      border: none;\n",
       "      border-radius: 50%;\n",
       "      cursor: pointer;\n",
       "      display: none;\n",
       "      fill: #1967D2;\n",
       "      height: 32px;\n",
       "      padding: 0 0 0 0;\n",
       "      width: 32px;\n",
       "    }\n",
       "\n",
       "    .colab-df-convert:hover {\n",
       "      background-color: #E2EBFA;\n",
       "      box-shadow: 0px 1px 2px rgba(60, 64, 67, 0.3), 0px 1px 3px 1px rgba(60, 64, 67, 0.15);\n",
       "      fill: #174EA6;\n",
       "    }\n",
       "\n",
       "    [theme=dark] .colab-df-convert {\n",
       "      background-color: #3B4455;\n",
       "      fill: #D2E3FC;\n",
       "    }\n",
       "\n",
       "    [theme=dark] .colab-df-convert:hover {\n",
       "      background-color: #434B5C;\n",
       "      box-shadow: 0px 1px 3px 1px rgba(0, 0, 0, 0.15);\n",
       "      filter: drop-shadow(0px 1px 2px rgba(0, 0, 0, 0.3));\n",
       "      fill: #FFFFFF;\n",
       "    }\n",
       "  </style>\n",
       "\n",
       "      <script>\n",
       "        const buttonEl =\n",
       "          document.querySelector('#df-9e65ad9f-534e-42cb-b749-c6e83a28638f button.colab-df-convert');\n",
       "        buttonEl.style.display =\n",
       "          google.colab.kernel.accessAllowed ? 'block' : 'none';\n",
       "\n",
       "        async function convertToInteractive(key) {\n",
       "          const element = document.querySelector('#df-9e65ad9f-534e-42cb-b749-c6e83a28638f');\n",
       "          const dataTable =\n",
       "            await google.colab.kernel.invokeFunction('convertToInteractive',\n",
       "                                                     [key], {});\n",
       "          if (!dataTable) return;\n",
       "\n",
       "          const docLinkHtml = 'Like what you see? Visit the ' +\n",
       "            '<a target=\"_blank\" href=https://colab.research.google.com/notebooks/data_table.ipynb>data table notebook</a>'\n",
       "            + ' to learn more about interactive tables.';\n",
       "          element.innerHTML = '';\n",
       "          dataTable['output_type'] = 'display_data';\n",
       "          await google.colab.output.renderOutput(dataTable, element);\n",
       "          const docLink = document.createElement('div');\n",
       "          docLink.innerHTML = docLinkHtml;\n",
       "          element.appendChild(docLink);\n",
       "        }\n",
       "      </script>\n",
       "    </div>\n",
       "  </div>\n",
       "  "
      ],
      "text/plain": [
       "   rec  freq   mon  time  target\n",
       "0   14     1   250    14       0\n",
       "1    9     9  2250    16       0\n",
       "2   11     3   750    16       1\n",
       "3   12    11  2750    23       0\n",
       "4    2     1   250     2       0"
      ]
     },
     "execution_count": 7,
     "metadata": {},
     "output_type": "execute_result"
    }
   ],
   "source": [
    "# Решение Задача 2\n",
    "oot = pd.read_csv('transfusion_oot.csv')\n",
    "oot.head()"
   ]
  },
  {
   "cell_type": "code",
   "execution_count": null,
   "metadata": {
    "colab": {
     "base_uri": "https://localhost:8080/"
    },
    "id": "93yadqjJ-kdj",
    "outputId": "d0ce4b01-1e0e-43ba-e6aa-a61092015040"
   },
   "outputs": [
    {
     "name": "stdout",
     "output_type": "stream",
     "text": [
      "качество на df: 0.941358024691358\n",
      "качество на oot: 0.54\n"
     ]
    }
   ],
   "source": [
    "tree.fit(x, y)\n",
    "\n",
    "df_acc = accuracy_score(tree.predict(x), y)\n",
    "print(f'качество на df: {df_acc}')\n",
    "oot_acc = accuracy_score(tree.predict(oot.drop(['target'], axis=1)), oot['target'])\n",
    "print(f'качество на oot: {oot_acc}')\n",
    "\n",
    "# модель явно переобучена, потеря в качестве в два раза."
   ]
  },
  {
   "cell_type": "code",
   "execution_count": null,
   "metadata": {
    "id": "chPISFgTeb0q"
   },
   "outputs": [],
   "source": []
  },
  {
   "cell_type": "code",
   "execution_count": null,
   "metadata": {
    "colab": {
     "base_uri": "https://localhost:8080/"
    },
    "id": "HWuvBAgHKr_M",
    "outputId": "28ba1d9a-0d58-478f-f779-c1b89a73887d"
   },
   "outputs": [
    {
     "data": {
      "text/plain": [
       "array([0.76153846, 0.76923077, 0.76923077, 0.76744186, 0.76744186])"
      ]
     },
     "execution_count": 9,
     "metadata": {},
     "output_type": "execute_result"
    }
   ],
   "source": [
    "# Решение Дополнительной задачи\n",
    "# Мы можем использовать глубину 1, так как у нас всего 4 входные фичи.\n",
    "tree = DecisionTreeClassifier(random_state=42, max_depth=1)\n",
    "cross_val_score(tree, x, y, cv=5)"
   ]
  },
  {
   "cell_type": "code",
   "execution_count": null,
   "metadata": {
    "colab": {
     "base_uri": "https://localhost:8080/"
    },
    "id": "9tUxz_SFK7Jx",
    "outputId": "381af0f1-faa7-4ac8-93db-f71d79e28976"
   },
   "outputs": [
    {
     "name": "stdout",
     "output_type": "stream",
     "text": [
      "качество на df: 0.7669753086419753\n",
      "качество на oot: 0.73\n"
     ]
    }
   ],
   "source": [
    "tree.fit(x, y)\n",
    "\n",
    "df_acc = accuracy_score(tree.predict(x), y)\n",
    "print(f'качество на df: {df_acc}')\n",
    "oot_acc = accuracy_score(tree.predict(oot.drop(['target'], axis=1)), oot['target'])\n",
    "print(f'качество на oot: {oot_acc}')\n",
    "\n",
    "# Качество модели на df и отложенной выборке не сильно отличается, модель не переобучилась."
   ]
  },
  {
   "cell_type": "code",
   "execution_count": null,
   "metadata": {
    "colab": {
     "base_uri": "https://localhost:8080/"
    },
    "id": "t81EMFMpM_Qo",
    "outputId": "87ee1ae7-d409-47c4-e953-088f7504000a"
   },
   "outputs": [
    {
     "name": "stdout",
     "output_type": "stream",
     "text": [
      "rec 1.0\n",
      "freq 0.0\n",
      "mon 0.0\n",
      "time 0.0\n"
     ]
    }
   ],
   "source": [
    "# дерево строится по одной фиче: rec\n",
    "for name, imp in zip(x.columns, tree.feature_importances_):\n",
    "  print(name, imp)"
   ]
  },
  {
   "cell_type": "markdown",
   "metadata": {
    "id": "28YtngkxjQAn"
   },
   "source": [
    "Попробуйте подставить другие метрики для рассчёта кросс-валидации с помощью параметра `scoring`. Чтобы узнать список метрик, которые может принимать кросс-валидация, вызовите метод `sklearn.metrics.SCORERS.keys()`.\n",
    "Заметьте, в этом списке есть не только метрики классификации, но и регрессии. Все они нам не подойдут.\n",
    "\n",
    "Рассчитайте значение кросс-валидации на метрике f1 micro, f1 weighted.\n"
   ]
  },
  {
   "cell_type": "code",
   "execution_count": null,
   "metadata": {
    "colab": {
     "base_uri": "https://localhost:8080/"
    },
    "id": "yhETpjP5j70q",
    "outputId": "de3a9ed1-0be6-4e8d-e30f-e8991c75f9d2"
   },
   "outputs": [
    {
     "data": {
      "text/plain": [
       "dict_keys(['explained_variance', 'r2', 'max_error', 'neg_median_absolute_error', 'neg_mean_absolute_error', 'neg_mean_absolute_percentage_error', 'neg_mean_squared_error', 'neg_mean_squared_log_error', 'neg_root_mean_squared_error', 'neg_mean_poisson_deviance', 'neg_mean_gamma_deviance', 'accuracy', 'top_k_accuracy', 'roc_auc', 'roc_auc_ovr', 'roc_auc_ovo', 'roc_auc_ovr_weighted', 'roc_auc_ovo_weighted', 'balanced_accuracy', 'average_precision', 'neg_log_loss', 'neg_brier_score', 'adjusted_rand_score', 'rand_score', 'homogeneity_score', 'completeness_score', 'v_measure_score', 'mutual_info_score', 'adjusted_mutual_info_score', 'normalized_mutual_info_score', 'fowlkes_mallows_score', 'precision', 'precision_macro', 'precision_micro', 'precision_samples', 'precision_weighted', 'recall', 'recall_macro', 'recall_micro', 'recall_samples', 'recall_weighted', 'f1', 'f1_macro', 'f1_micro', 'f1_samples', 'f1_weighted', 'jaccard', 'jaccard_macro', 'jaccard_micro', 'jaccard_samples', 'jaccard_weighted'])"
      ]
     },
     "execution_count": 16,
     "metadata": {},
     "output_type": "execute_result"
    }
   ],
   "source": [
    "from sklearn.metrics import SCORERS\n",
    "SCORERS.keys()"
   ]
  },
  {
   "cell_type": "code",
   "execution_count": null,
   "metadata": {
    "colab": {
     "base_uri": "https://localhost:8080/"
    },
    "id": "by3DlrNqNd58",
    "outputId": "1976c72e-f1ff-43e8-fb6b-3457e63ca002"
   },
   "outputs": [
    {
     "data": {
      "text/plain": [
       "array([0.76153846, 0.76923077, 0.76923077, 0.76744186, 0.76744186])"
      ]
     },
     "execution_count": 20,
     "metadata": {},
     "output_type": "execute_result"
    }
   ],
   "source": [
    "cross_val_score(tree, x, y, cv=5, scoring='f1_micro')"
   ]
  },
  {
   "cell_type": "code",
   "execution_count": null,
   "metadata": {
    "colab": {
     "base_uri": "https://localhost:8080/"
    },
    "id": "mZ1Za32mkCtc",
    "outputId": "5772ca00-bf62-464d-f959-6f3c2a4ecb47"
   },
   "outputs": [
    {
     "data": {
      "text/plain": [
       "array([0.6584481 , 0.66889632, 0.66889632, 0.66646267, 0.66646267])"
      ]
     },
     "execution_count": 22,
     "metadata": {},
     "output_type": "execute_result"
    }
   ],
   "source": [
    "cross_val_score(tree, x, y, cv=5, scoring='f1_weighted')"
   ]
  }
 ],
 "metadata": {
  "colab": {
   "collapsed_sections": [],
   "name": "Урок 3. Практика.ipynb",
   "provenance": []
  },
  "kernelspec": {
   "display_name": "Python 3 (ipykernel)",
   "language": "python",
   "name": "python3"
  },
  "language_info": {
   "codemirror_mode": {
    "name": "ipython",
    "version": 3
   },
   "file_extension": ".py",
   "mimetype": "text/x-python",
   "name": "python",
   "nbconvert_exporter": "python",
   "pygments_lexer": "ipython3",
   "version": "3.9.7"
  }
 },
 "nbformat": 4,
 "nbformat_minor": 1
}
